{
  "nbformat": 4,
  "nbformat_minor": 0,
  "metadata": {
    "colab": {
      "provenance": []
    },
    "kernelspec": {
      "name": "python3",
      "display_name": "Python 3"
    },
    "language_info": {
      "name": "python"
    }
  },
  "cells": [
    {
      "cell_type": "markdown",
      "source": [
        "#FILES & EXCEPCTINAL HANDLING ASSSIGNMENT"
      ],
      "metadata": {
        "id": "6xZRl38_k-eb"
      }
    },
    {
      "cell_type": "markdown",
      "source": [
        "#1. What is the difference between interpreted and compiled languages?\n",
        "-  \n",
        "#Compiled Languages\n",
        "\n",
        "- Definition: Compiled languages are converted directly into machine code that the computer's processor can execute. This conversion happens before the program is run, using a compiler.\n",
        "- Execution: Once compiled, the program can be run directly without needing further interpretation.\n",
        "- Examples: C, C++, Java (compiles to bytecode, then interpreted)\n",
        "\n",
        "- Advantages:\n",
        " - Generally faster execution since the code is already in machine-readable format.\n",
        " - Better performance for complex and\n",
        "computationally intensive tasks.\n",
        "\n",
        "- Disadvantages:\n",
        " - Requires a separate compilation step before execution.\n",
        " - Platform-dependent (compiled code typically runs on a specific operating system and architecture).\n",
        "\n",
        "#Interpreted Languages\n",
        "\n",
        "- Definition: Interpreted languages are executed line by line by an interpreter, which translates the code into machine code as it runs.\n",
        "- Execution: The interpreter reads each line of code, converts it, and executes it immediately.\n",
        "- Examples: Python, JavaScript, R\n",
        "\n",
        "- Advantages:\n",
        " - Easier to debug and test since errors are identified during execution.\n",
        " - Platform-independent (the interpreter handles the platform-specific details).\n",
        " - More flexible and dynamic.\n",
        "\n",
        "- Disadvantages:\n",
        " - Slower execution speed compared to compiled languages, as the code is translated during runtime.\n",
        " - Less efficient for performance-critical applications.\n",
        "\n",
        "#2. What is exception handling in Python?\n",
        "-\n",
        "\n",
        "In Python, exception handling is a mechanism for gracefully managing errors that occur during program execution. It allows you to anticipate potential problems and define how your program should respond when those problems arise. This prevents your program from crashing and provides a way to handle unexpected situations.\n",
        "\n",
        "Here's a breakdown of the key concepts:\n",
        "\n",
        "1.   Exceptions:\n",
        "\n",
        "Exceptions are events that disrupt the normal flow of a program. They signal that something unexpected has happened, such as trying to divide by zero, accessing a non-existent file, or encountering a network error.\n",
        "Python has built-in exceptions like ZeroDivisionError, TypeError, FileNotFoundError, and many others.\n",
        "\n",
        "2. try, except, finally Blocks:\n",
        "\n",
        "try: The code that might raise an exception is placed inside a try block.\n",
        "except: If an exception occurs within the try block, the program flow jumps to the corresponding except block. This block contains the code to handle the specific exception.\n",
        "finally: This block is optional and is executed regardless of whether an exception occurred or not. It's typically used for cleanup tasks, like closing files or releasing resources.\n",
        "\n",
        "#Benefits of Exception Handling:\n",
        "\n",
        "- Prevents program crashes.\n",
        "- Allows for graceful error handling.\n",
        "- Improves code readability and maintainability.\n",
        "- Enables you to create robust and reliable programs.\n",
        "\n",
        "#3. What is the purpose of the finally block in exception handling?\n",
        "-   The finally block in Python's exception handling mechanism is used to ensure that certain code is always executed, regardless of whether an exception occurred or not. It's primarily used for cleanup actions that need to happen no matter what.\n",
        "\n",
        "#Here's a breakdown of its purpose:\n",
        "\n",
        "- Guaranteed Execution: The code within the finally block is guaranteed to execute even if an exception is raised within the try block or if the try block is exited using a return, break, or continue statement.\n",
        "\n",
        "- Cleanup Actions: It's commonly used for cleanup tasks like closing files, releasing resources (like database connections), or resetting variables to their original states. This helps prevent resource leaks and ensures that your program leaves the system in a consistent state.\n",
        "\n",
        "#Key Takeaways:\n",
        "\n",
        "- The finally block is optional but highly recommended when dealing with external resources or cleanup actions.\n",
        "- It ensures that critical cleanup code is always executed, preventing resource leaks and maintaining program integrity.\n",
        "- It promotes code readability by separating cleanup logic from the main program flow.\n",
        "\n",
        "#4. What is logging in Python?\n",
        "-  Logging is a means of tracking events that happen when some software runs. The software's developer adds logging calls to their code to indicate that certain events have occurred.\n",
        "\n",
        "#Purpose of Logging:\n",
        "\n",
        "- Record program events: Logging helps you keep track of what's happening in your application during execution.\n",
        "- Debugging: It provides valuable insights into the program's flow and helps identify the cause of errors.\n",
        "- Monitoring: You can use logs to monitor the performance and behavior of your application in real-time or after the fact.\n",
        "- Auditing: Logs can be used for security audits and compliance purposes.\n",
        "\n",
        "#How it works:\n",
        "\n",
        "- Import the logging module: import logging\n",
        "- Create a logger: logger = logging.getLogger(__name__)\n",
        "- Set the logging level: logger.setLevel(logging.DEBUG)\n",
        "- Add a handler (e.g., to write logs to a file):\n",
        "- Format the log messages:\n",
        "- Log messages using different levels:\n",
        "\n",
        "#Logging Levels:\n",
        "\n",
        "- DEBUG: Detailed information, typically of interest only when diagnosing problems.\n",
        "- INFO: Confirmation that things are working as expected.\n",
        "- WARNING: An indication that something unexpected happened or indicative of some problem in the near future (e.g., 'disk space low'). The software is still working as expected.\n",
        "- ERROR: Due to a more serious problem, the software has not been able to perform some function.\n",
        "- CRITICAL: A serious error, indicating that the program itself may be unable to continue running.\n",
        "\n",
        "#5. What is the significance of the __del__ method in Python?\n",
        "- In Python, the __del__ method is a special method also known as a destructor. It is called when an object is about to be destroyed or garbage collected. This method provides a way to perform cleanup actions or release resources before the object is removed from memory.\n",
        "\n",
        "#Significance of __del__:\n",
        "\n",
        "- Resource Management: The primary significance of __del__ is to release external resources held by the object, such as file handles, network connections, or database connections. This prevents resource leaks and ensures proper cleanup.\n",
        "\n",
        "- Cleanup Actions: You can use the __del__ method to perform any necessary cleanup actions before the object is destroyed, such as closing files, releasing locks, or deleting temporary files.\n",
        "\n",
        "- Object Finalization: The __del__ method acts as a finalizer for the object, allowing you to execute code one last time before it's removed from memory.\n",
        "\n",
        "#Important Considerations:\n",
        "\n",
        "- The __del__ method is not guaranteed to be called in all cases, such as when the program exits abruptly.\n",
        "- It's generally recommended to use context managers (e.g., with statement) or explicit cleanup methods for resource management instead of relying solely on __del__.\n",
        "- Avoid performing complex or time-consuming operations within __del__ as it can introduce unexpected behavior.\n",
        "\n",
        "#6. What is the difference between import and from ... import in Python?\n",
        "- Both import and from ... import are used to bring external modules or specific attributes from modules into your current Python script or interactive session. However, they differ in how they make those elements accessible.\n",
        "\n",
        "#import:\n",
        "\n",
        "- Imports the entire module: When you use import module_name, it imports the entire module, making all its functions, classes, and variables accessible using the module name as a prefix\n",
        "\n",
        "- Benefits:\n",
        " - Avoids naming conflicts if different modules have attributes with the same name.\n",
        " - Makes it clear where specific functions or\n",
        "classes are coming from.\n",
        "\n",
        "from ... import:\n",
        "\n",
        "- Imports specific attributes: When you use from module_name import attribute_name, it imports only the specified attribute (function, class, or variable) directly into your current namespace.\n",
        "\n",
        "- Benefits:\n",
        " - Can make code shorter and more readable when you only need a few specific attributes from a module.\n",
        " - Avoids the need to use the module name as a prefix repeatedly.\n",
        "\n",
        "#Choosing the Right Approach:\n",
        "\n",
        "- If you need to use many attributes from a module or want to avoid naming conflicts, use import.\n",
        "- If you only need a few specific attributes and want to write more concise code, use from ... import.\n",
        "\n",
        "#7.  How can you handle multiple exceptions in Python?\n",
        "- Method 1: Using a single except clause with multiple exception types"
      ],
      "metadata": {
        "id": "e0KRgumplIeP"
      }
    },
    {
      "cell_type": "code",
      "source": [
        "try:\n",
        "    # Code that might raise exceptions\n",
        "    result = 10 / 0  # This will raise a ZeroDivisionError\n",
        "    file = open(\"nonexistent_file.txt\", \"r\")  # This might raise a FileNotFoundError\n",
        "except (ZeroDivisionError, FileNotFoundError) as e:\n",
        "    print(f\"An error occurred: {e}\")"
      ],
      "metadata": {
        "colab": {
          "base_uri": "https://localhost:8080/"
        },
        "id": "-U6PtvU6qB8_",
        "outputId": "e13579d3-827b-492e-b94d-fa5a392c42ad"
      },
      "execution_count": null,
      "outputs": [
        {
          "output_type": "stream",
          "name": "stdout",
          "text": [
            "An error occurred: division by zero\n"
          ]
        }
      ]
    },
    {
      "cell_type": "markdown",
      "source": [
        "Reasoning:\n",
        "\n",
        "- try block: The code that might raise exceptions is placed within the try block.\n",
        "- except block: If any of the specified exceptions (ZeroDivisionError, FileNotFoundError) occur within the try block, the program flow jumps to the except block.\n",
        "- Error Handling: Inside the except block, you can access the exception object (e) to get more information about the error and handle it accordingly. The as e part assigns the exception object to the variable e.\n",
        "- Multiple Exceptions: By specifying multiple exception types in a tuple after except, you can handle them with the same error-handling logic.\n",
        "\n",
        "#Method 2: Using multiple except clauses"
      ],
      "metadata": {
        "id": "Jvnh-XCxqEbn"
      }
    },
    {
      "cell_type": "code",
      "source": [
        "try:\n",
        "    # Code that might raise exceptions\n",
        "    result = 10 / 0\n",
        "    file = open(\"nonexistent_file.txt\", \"r\")\n",
        "except ZeroDivisionError as e:\n",
        "    print(f\"ZeroDivisionError: {e}\")\n",
        "except FileNotFoundError as e:\n",
        "    print(f\"FileNotFoundError: {e}\")"
      ],
      "metadata": {
        "id": "MKCMIk8wqRsf"
      },
      "execution_count": null,
      "outputs": []
    },
    {
      "cell_type": "markdown",
      "source": [
        "Reasoning:\n",
        "\n",
        "- Separate Handling: This approach allows you to handle different exceptions with specific error-handling logic for each one.\n",
        "- Order Matters: The order of the except blocks is important. Python will try to match the exception type with the except clauses in the order they appear.\n",
        "\n",
        "#Method 3: Using a generic except clause"
      ],
      "metadata": {
        "id": "y3JIxQdSqUsF"
      }
    },
    {
      "cell_type": "code",
      "source": [
        "try:\n",
        "    # Code that might raise exceptions\n",
        "    result = 10 / 0\n",
        "    file = open(\"nonexistent_file.txt\", \"r\")\n",
        "except Exception as e:\n",
        "    print(f\"A generic exception occurred: {e}\")"
      ],
      "metadata": {
        "id": "cav76PezqhNW"
      },
      "execution_count": null,
      "outputs": []
    },
    {
      "cell_type": "markdown",
      "source": [
        "Reasoning:\n",
        "\n",
        "- Catch-All: The except Exception clause will catch any type of exception that might occur within the try block.\n",
        "- Use with Caution: It's generally recommended to use specific except clauses whenever possible, as using a generic except clause can make it harder to identify the cause of errors.\n",
        "\n",
        "#8. What is the purpose of the with statement when handling files in Python?\n",
        "-\n",
        "\n",
        "The with statement is used to simplify file handling and ensure proper resource management. It's particularly useful because it automatically closes the file after you're done working with it, even if exceptions occur.\n",
        "\n",
        "Here's a breakdown of its purpose:\n",
        "\n",
        "- Automatic Resource Management:\n",
        "\n",
        "The primary purpose of the with statement is to automatically manage resources like files. When you open a file using with open(...) as file:, Python creates a context manager. This context manager takes care of opening the file, allowing you to work with it, and most importantly, closing the file automatically when you exit the with block.\n",
        "\n",
        "- Exception Handling:\n",
        "If an exception occurs while you're working with the file inside the with block, the context manager ensures that the file is still closed properly before the exception is propagated. This prevents resource leaks and potential data corruption\n",
        ".\n",
        "- Readability and Conciseness:\n",
        "\n",
        "Using the with statement makes your code more readable and concise by eliminating the need for explicit try...finally blocks for file closing. It clearly defines the scope within which the file is open and accessible.\n",
        "Using the with statement makes your code more readable and concise by eliminating the need for explicit try...finally blocks for file closing. It clearly defines the scope within which the file is open and accessible.\n",
        "\n",
        "#How it Works:\n",
        "\n",
        "- The with statement uses context managers, which are objects that define the setup and cleanup actions required for a specific resource. The open() function returns a context manager for files.\n",
        "- When the with block is entered, the context manager's __enter__ method is called, which opens the file and returns a file object.\n",
        "- When the with block is exited (either normally or due to an exception), the context manager's __exit__ method is called, which closes the file, ensuring proper cleanup.\n",
        "\n",
        "#9. What is the difference between multithreading and multiprocessing?\n",
        "-\n",
        "\n",
        "Both multithreading and multiprocessing are ways to achieve parallelism in Python, allowing you to execute multiple tasks concurrently. However, they differ in how they utilize system resources and the types of tasks they are best suited for.\n",
        "\n",
        "Here's a breakdown of the key differences:\n",
        "\n",
        "#Multithreading:\n",
        "\n",
        "- Concept: Multithreading involves creating multiple threads within a single process. These threads share the same memory space and resources of the process.\n",
        "\n",
        "- Advantages:\n",
        " - Lightweight and efficient for I/O-bound tasks (tasks that spend a lot of time waiting for input/output operations, like network requests or disk access).\n",
        " - Threads can easily share data and communicate with each other.\n",
        "\n",
        "- Disadvantages:\n",
        " - Limited by the Global Interpreter Lock (GIL) in Python, which prevents multiple threads from executing Python bytecode simultaneously\n",
        "This means multithreading might not provide true parallelism for CPU-bound tasks (tasks that require intensive computation).\n",
        " - Requires careful synchronization to avoid race conditions and data corruption when multiple threads access shared resources.\n",
        "\n",
        "#Multiprocessing:\n",
        "\n",
        "- Concept: Multiprocessing involves creating multiple processes, each with its own memory space and resources. These processes run independently and can execute tasks in parallel.\n",
        "- Advantages:\n",
        " - Bypasses the GIL limitation and achieves true parallelism for CPU-bound tasks, utilizing multiple CPU cores effectively.\n",
        " - More robust and less prone to data corruption, as processes have separate memory spaces.\n",
        "\n",
        "- Disadvantages:\n",
        " - Heavier and less efficient than multithreading, as creating and managing processes incurs more overhead.\n",
        " - Inter-process communication is more complex and requires mechanisms like pipes or queues.\n",
        "\n",
        "#10. What are the advantages of using logging in a program?\n",
        "- Logging is a valuable technique for recording program events and information during execution. It offers several significant advantages for developers and system administrators:\n",
        "\n",
        "- Record Program Events:\n",
        "\n",
        "Logging helps you keep track of what's happening in your application during execution. You can log various events, such as function calls, variable values, errors, and warnings. This provides a detailed history of the program's activity.\n",
        "\n",
        "- Debugging:\n",
        "\n",
        "Logs provide valuable insights into the program's flow and help identify the cause of errors. By examining the sequence of events and data recorded in the logs, you can trace the execution path and pinpoint the source of issues.\n",
        "\n",
        "- Monitoring:\n",
        "\n",
        "You can use logs to monitor the performance and behavior of your application in real-time or after the fact. By analyzing log data, you can identify bottlenecks, track resource usage, and detect anomalies that might indicate potential problems.\n",
        "\n",
        "- Auditing:\n",
        "\n",
        "Logs can be used for security audits and compliance purposes. They provide a record of user actions, system changes, and other relevant events, which can be crucial for demonstrating compliance with regulations or investigating security incidents.\n",
        "\n",
        "- Easier Collaboration:\n",
        "\n",
        "Logs can facilitate collaboration among developers and system administrators. By sharing logs, team members can gain a common understanding of the program's behavior and work together to resolve issues more effectively.\n",
        "\n",
        "- Post-Mortem Analysis:\n",
        "\n",
        "In case of a system crash or unexpected behavior, logs serve as a valuable resource for post-mortem analysis. By examining the logs, you can understand the sequence of events leading up to the failure and identify potential causes.\n",
        "\n",
        "- Problem Diagnosis and Root Cause Analysis\n",
        "\n",
        "With access to logs of previous application behavior, finding the root cause of any problem becomes relatively simple. Developers do not have to reproduce each error, which otherwise could be very difficult in real-time production environments.\n",
        "\n",
        "- Facilitates Understanding of Application Behavior\n",
        "\n",
        "Monitoring logs can help in analyzing how an application behaves under different conditions and usage patterns.\n",
        "\n",
        "- Enables Proactive Monitoring\n",
        "\n",
        "Monitoring logs enable developers and administrators to proactively identify issues that might affect service quality, and trigger appropriate response. This is especially useful in high-traffic websites and business-critical applications.\n",
        "\n",
        "#11. What is memory management in Python?\n",
        "-\n",
        "\n",
        "In Python, memory management is handled automatically by the Python memory manager. This means you don't have to explicitly allocate or deallocate memory for your objects like you might in languages like C or C++.\n",
        "\n",
        "#Here's a breakdown of how memory management works in Python:\n",
        "\n",
        "- Private Heap:\n",
        "\n",
        "Python uses a private heap to store all objects and data structures. This heap is managed internally by the Python memory manager and is not directly accessible to the programmer.\n",
        "\n",
        "- Dynamic Allocation:\n",
        "\n",
        "Memory is allocated dynamically as objects are created during program execution. When you create a new object, the memory manager finds a suitable block of memory in the heap and assigns it to the object.\n",
        "\n",
        "- Reference Counting:\n",
        "\n",
        "Python primarily uses reference counting to keep track of objects in memory. Each object has a reference count, which is the number of variables or other objects that are currently referring to it.\n",
        "When an object's reference count reaches zero, it means there are no more references to it, and the memory manager automatically deallocates the memory occupied by that object. This process is called garbage collection.\n",
        "\n",
        "- Garbage Collection:\n",
        "\n",
        "In addition to reference counting, Python also has a cyclic garbage collector to handle situations where objects have circular references (i.e., they refer to each other, preventing their reference counts from reaching zero).\n",
        "The cyclic garbage collector periodically identifies and collects these objects to prevent memory leaks.\n",
        "\n",
        "#Benefits of Automatic Memory Management:\n",
        "\n",
        "- Reduced Development Time: Programmers don't need to worry about manual memory allocation and deallocation, which can be error-prone and time-consuming.\n",
        "- Improved Program Reliability: Automatic memory management helps prevent memory leaks and dangling pointers, which can lead to program crashes or unexpected behavior.\n",
        "- Simplified Code: Python code is generally cleaner and easier to read because it doesn't need to include explicit memory management instructions.\n",
        "\n",
        "#12. What are the basic steps involved in exception handling in Python?\n",
        "- Exception handling in Python involves using try, except, and optionally finally blocks to gracefully manage errors that might occur during program execution.\n",
        "\n",
        "#Here are the basic steps:\n",
        "\n",
        "- Identify the code that might raise an exception: This is the code that has the potential to cause an error, such as dividing by zero, accessing a non-existent file, or making a network request that might fail.\n",
        "\n",
        "- Place the code inside a try block: The try block encloses the code that you want to monitor for exceptions.\n",
        "\n",
        "- Define one or more except blocks: Each except block specifies the type of exception it handles and the code to execute when that exception occurs. You can have multiple except blocks to handle different types of exceptions.\n",
        "\n",
        "- (Optional) Include a finally block: The finally block contains code that will be executed regardless of whether an exception occurred or not. It's typically used for cleanup tasks, such as closing files or releasing resources.\n",
        "\n",
        "#Benefits of Exception Handling:\n",
        "\n",
        "Prevents program crashes: By handling exceptions, you can prevent your program from terminating abruptly when an error occurs.\n",
        "Allows for graceful error handling: You can provide informative error messages or take alternative actions when exceptions occur.\n",
        "Improves code readability and maintainability: Exception handling makes your code more organized and easier to understand.\n",
        "Enables you to create robust and reliable programs: By anticipating and handling potential errors, you can make your programs more resilient to unexpected situations.\n",
        "\n",
        "#13. Why is memory management important in Python?\n",
        "- Okay, let's discuss why memory management is important in Python.\n",
        "\n",
        "While Python handles memory management automatically, understanding its importance can help you write more efficient and robust programs. Here's why it matters:\n",
        "\n",
        "- Preventing Memory Leaks:\n",
        " - Memory leaks occur when objects are no longer needed but are still held in memory, preventing the memory from being reused. This can lead to your program consuming more and more memory over time, eventually causing performance issues or even crashes.\n",
        "\n",
        " - Python's automatic garbage collection helps prevent memory leaks by deallocating memory occupied by unused objects. However, understanding how reference counting and garbage collection work can help you avoid situations that might hinder their effectiveness.\n",
        "\n",
        "- Optimizing Performance:\n",
        " - Efficient memory management can significantly improve the performance of your Python programs. When objects are deallocated promptly, the memory becomes available for reuse, reducing the need for the memory manager to allocate new memory frequently.\n",
        "\n",
        " - By understanding how Python manages memory, you can write code that minimizes object creation and destruction, reducing the overhead associated with memory management.\n",
        "\n",
        "- Improving Program Stability:\n",
        " - Memory errors, such as accessing invalid memory locations or attempting to use memory that has already been deallocated, can lead to program crashes or unpredictable behavior.\n",
        "\n",
        " - Python's automatic memory management helps prevent these errors by ensuring that objects are accessed and used correctly. However, being aware of potential memory-related issues can help you write more robust and stable code.\n",
        "\n",
        "- Enhancing Code Readability:\n",
        " - While Python handles memory management automatically, understanding the underlying mechanisms can make your code more readable and maintainable.\n",
        "\n",
        " - For example, knowing how reference counting works can help you understand why certain objects might persist in memory longer than expected, allowing you to make informed decisions about object lifetimes and data structures.\n",
        "\n",
        "- Facilitating Debugging:\n",
        " - When memory-related issues arise, understanding Python's memory management can assist in debugging.\n",
        "\n",
        " - By examining object references and memory usage patterns, you can identify potential memory leaks or areas where memory is being allocated inefficiently.\n",
        "\n",
        "#In essence, although Python simplifies memory management through automation, being aware of its principles and implications can lead to:\n",
        "\n",
        "- Reduced memory consumption\n",
        "- Improved performance\n",
        "- Increased program stability\n",
        "- Enhanced code readability\n",
        "- Easier debugging of memory-related issues\n",
        "\n",
        "Therefore, memory management remains a crucial consideration for writing high-quality Python programs.\n",
        "\n",
        "\n",
        "#14. What is the role of try and except in exception handling?\n",
        "-\n",
        "\n",
        "In Python, exception handling is a mechanism for gracefully managing errors that occur during program execution. The try and except blocks are fundamental components of this mechanism.\n",
        "\n",
        "#Here's a breakdown of their roles:\n",
        "\n",
        "try block:\n",
        "\n",
        "- Encloses the code that might raise an exception: The try block is used to enclose the section of code where you anticipate potential errors or exceptions might occur.\n",
        "- Monitors for exceptions: While the code within the try block is executing, Python monitors for any exceptions that might be raised.\n",
        "- Transfers control to except block: If an exception occurs within the try block, Python immediately stops executing the code in the try block and transfers control to the appropriate except block.\n",
        "#except block:\n",
        "\n",
        "- Handles specific exceptions: Each except block is designed to handle a specific type of exception. You can have multiple except blocks to handle different types of exceptions.\n",
        "- Provides error-handling logic: The code within an except block defines how your program should respond when a particular exception occurs. This might involve printing an error message, logging the error, attempting to recover from the error, or taking alternative actions.\n",
        "- Prevents program crashes: By handling exceptions with except blocks, you prevent your program from terminating abruptly when an error occurs.\n",
        "\n",
        "#15. How does Python's garbage collection system work?\n",
        "- Python's garbage collection system is designed to automatically manage memory allocation and deallocation, relieving developers from the burden of manual memory management. It primarily relies on two mechanisms: reference counting and cyclic garbage collection.\n",
        "\n",
        "#Here's a breakdown of how it works:\n",
        "\n",
        "- Reference Counting:\n",
        "\n",
        " - Every object in Python has a reference count, which keeps track of the number of references pointing to that object.\n",
        " - When an object is created or assigned to a variable, its reference count is incremented.\n",
        " - When a variable goes out of scope or is reassigned to a different object, the reference count of the original object is decremented.\n",
        " - When an object's reference count reaches zero, it means there are no more references to it, and the memory occupied by that object is automatically deallocated.\n",
        "- Cyclic Garbage Collection:\n",
        "\n",
        " - Reference counting alone cannot handle situations where objects have circular references, i.e., they refer to each other, creating a cycle. In such cases, even if the objects are no longer accessible from the main program, their reference counts remain non-zero, preventing them from being garbage collected.\n",
        " - To address this, Python employs a cyclic garbage collector, which periodically detects and collects objects involved in circular references. It uses a specialized algorithm to identify and break these cycles, allowing the memory occupied by the objects to be reclaimed.\n",
        "#Benefits of Python's Garbage Collection System:\n",
        "\n",
        " -Automatic Memory Management: Developers don't need to worry about manually allocating and deallocating memory, reducing the risk of memory leaks and dangling pointers.\n",
        "- Improved Program Stability: By automatically reclaiming unused memory, garbage collection helps prevent program crashes and unpredictable behavior caused by memory errors.\n",
        "- Simplified Development: Developers can focus on writing application logic without being burdened by memory management tasks, leading to cleaner and more concise code.\n",
        "\n",
        "\n",
        "#16. What is the purpose of the else block in exception handling?\n",
        "- In Python's exception handling mechanism, the else block is an optional clause that is executed only if the try block completes successfully without raising any exceptions. It provides a way to specify code that should run only when the code in the try block executes without errors.\n",
        "\n",
        "#Purpose:\n",
        "\n",
        "The primary purpose of the else block is to separate the code that is dependent on the successful execution of the try block from the code that handles exceptions. This improves code readability and organization by clearly distinguishing between normal execution flow and error handling.\n",
        "\n",
        "#How it works:\n",
        "\n",
        "- If an exception is raised within the try block, the corresponding except block (if any) is executed, and the else block is skipped.\n",
        "- If no exceptions are raised within the try block, the else block is executed after the try block completes.\n",
        "\n",
        "#Benefits of using the else block:\n",
        "\n",
        "- Improved Code Readability: Separates error handling from normal execution flow.\n",
        "- Avoids Unnecessary Code in except Blocks: Prevents code that should run only on successful execution from being included in except blocks.\n",
        "- More Precise Error Handling: Allows for specific actions to be taken only when the try block completes successfully.\n",
        "\n",
        "#17. What are the common logging levels in Python?\n",
        "- The logging module in Python provides several predefined logging levels, which represent the severity of an event or message being logged. These levels help you categorize and filter log messages based on their importance.\n",
        "\n",
        "#Here are the common logging levels in Python, in increasing order of severity:\n",
        "\n",
        "- DEBUG: Detailed information, typically of interest only when diagnosing problems.\n",
        "\n",
        "- INFO: Confirmation that things are working as expected.\n",
        "\n",
        "- WARNING: An indication that something unexpected happened or indicative of some problem in the near future (e.g., 'disk space low'). The software is still working as expected.\n",
        "\n",
        "- ERROR: Due to a more serious problem, the software has not been able to perform some function.\n",
        "\n",
        "- CRITICAL: A serious error, indicating that the program itself may be unable to continue running.\n",
        "\n",
        "#Choosing the right logging level:\n",
        "\n",
        "- Use DEBUG for detailed information that is helpful during development and debugging.\n",
        "- Use INFO to log general events and progress information.\n",
        "- Use WARNING to log potential issues that might need attention.\n",
        "- Use ERROR to log errors that prevent the software from functioning correctly.\n",
        "- Use CRITICAL to log critical errors that might lead to program termination.\n",
        "\n",
        "#Benefits of using logging levels:\n",
        "\n",
        "- Filtering: You can easily filter log messages based on their severity, focusing on the most important information.\n",
        "- Prioritization: You can prioritize messages based on their severity, ensuring that critical errors are addressed promptly.\n",
        "- Organization: You can organize log messages into different categories, making it easier to understand and analyze them.\n",
        "\n",
        "#18.  What is the difference between os.fork() and multiprocessing in Python?\n",
        "- Both os.fork() and multiprocessing are used for creating new processes in Python, enabling parallelism. However, they differ significantly in their approach and usage.\n",
        "\n",
        "- os.fork()\n",
        "\n",
        " - Mechanism: os.fork() is a system call that creates a new process by duplicating the existing process (the parent). This new process (the child) is an almost identical copy of the parent, inheriting its memory space, file descriptors, and other resources.\n",
        " - Availability: It's a POSIX-only function and is typically available on Unix-like systems (like Linux and macOS). It's not available on Windows.\n",
        " - Use Cases: It's often used in system-level programming where you need to create a child process that shares resources with the parent, such as forking a daemon process or creating a subprocess to execute a specific task.\n",
        " - Limitations: Due to its reliance on process duplication, os.fork() can be less efficient than other methods, especially for large processes. It can also lead to issues if the parent process has complex data structures or shared resources that need careful synchronization.\n",
        "\n",
        " #EXAMPLE:\n"
      ],
      "metadata": {
        "id": "H5jlpvfDqlZO"
      }
    },
    {
      "cell_type": "code",
      "source": [
        "import os\n",
        "\n",
        "pid = os.fork()\n",
        "\n",
        "if pid == 0:\n",
        "    # Child process\n",
        "    print(\"Child process:\", os.getpid())\n",
        "else:\n",
        "    # Parent process\n",
        "    print(\"Parent process:\", os.getpid())\n"
      ],
      "metadata": {
        "colab": {
          "base_uri": "https://localhost:8080/"
        },
        "id": "h_r1FS8wygxS",
        "outputId": "9f875356-5fd7-44ca-8fc9-7bf339282a12"
      },
      "execution_count": null,
      "outputs": [
        {
          "output_type": "stream",
          "name": "stdout",
          "text": [
            "Parent process: 1276\n",
            "Child process: 10212\n"
          ]
        }
      ]
    },
    {
      "cell_type": "markdown",
      "source": [
        "#multiprocessing\n",
        "\n",
        "- Mechanism: The multiprocessing module provides a higher-level interface for creating and managing processes in Python. It offers various ways to create new processes, such as using the Process class or the Pool class.\n",
        "- Availability: It's cross-platform, meaning it works on Windows, Linux, and macOS.\n",
        "- Use Cases: It's suitable for a wide range of parallel processing tasks, including CPU-bound tasks, where you want to utilize multiple cores for computation.\n",
        "- Advantages: It provides better control over process creation and management compared to os.fork(). It offers mechanisms for inter-process communication, data sharing, and process synchronization. It's generally more robust and easier to use for parallel processing in Python.\n",
        "\n",
        "#Example:"
      ],
      "metadata": {
        "id": "nsDg2c2Zymfj"
      }
    },
    {
      "cell_type": "code",
      "source": [
        "from multiprocessing import Process\n",
        "\n",
        "def my_function(name):\n",
        "    print(\"Hello\", name)\n",
        "\n",
        "if __name__ == '__main__':\n",
        "    p = Process(target=my_function, args=('Bob',))\n",
        "    p.start()\n",
        "    p.join()"
      ],
      "metadata": {
        "id": "HslXWittywPg"
      },
      "execution_count": null,
      "outputs": []
    },
    {
      "cell_type": "markdown",
      "source": [
        "#19. What is the importance of closing a file in Python?\n",
        "-\n",
        "\n",
        "When you open a file in Python using the open() function, it creates a file object that represents the connection to the file on your system. This file object allows you to read from or write to the file. However, it's crucial to close the file using the close() method when you're finished with it.\n",
        "\n",
        "#Here's why closing files is important:\n",
        "\n",
        "- Releasing System Resources:\n",
        "\n",
        " - When a file is open, it occupies system resources, such as file descriptors and buffers. These resources are limited, and if too many files are left open, it can lead to resource exhaustion and system instability.\n",
        " - Closing the file releases these resources, making them available for other processes or files. This helps ensure that your system runs smoothly and efficiently.\n",
        "\n",
        "- Data Integrity:\n",
        "\n",
        " - When you write data to a file, it might not be immediately written to the disk. Instead, it might be buffered in memory and written later.\n",
        " - Closing the file ensures that any buffered data is flushed to the disk, guaranteeing that all your changes are saved and the file is in a consistent state.\n",
        " - Failing to close a file, especially after writing to it, can result in data loss or corruption.\n",
        "\n",
        "- Preventing File Locking:\n",
        "\n",
        " - On some operating systems, open files might be locked, preventing other processes from accessing them.\n",
        " - Closing the file releases the lock, allowing other processes to read or write to the file without interference.\n",
        " - This is particularly important in collaborative environments or when multiple programs need to access the same file.\n",
        "\n",
        "- Avoiding Unexpected Behavior:\n",
        "\n",
        " - Leaving files open can lead to unexpected behavior in your program. For example, if you try to delete or rename a file that is still open, it might fail or raise an exception.\n",
        " - Closing the file before performing such operations ensures that they are executed correctly.\n",
        "\n",
        "#Best Practices\n",
        "\n",
        "- Always close files explicitly using the close() method when you're finished with them.\n",
        "- Use the with statement to automatically close files. The with statement creates a context manager that ensures the file is closed automatically when you exit the block, even if exceptions occur. This is generally the preferred way to handle files in Python.\n",
        "\n",
        "#20. What is the difference between file.read() and file.readline() in Python?\n",
        "- Both file.read() and file.readline() are methods used to read data from a file object in Python. However, they differ in how much data they read and how they handle the file pointer.\n",
        "\n",
        "#file.read()\n",
        "\n",
        "- Functionality: Reads the entire content of the file as a single string.\n",
        "- Arguments:\n",
        " - size (optional): Specifies the number of bytes to read. If omitted or negative, reads the entire file.\n",
        "- Returns: A string containing the data read from the file.\n",
        "- File Pointer: After reading, the file pointer is positioned at the end of the file. Subsequent calls to read() will return an empty string unless the file pointer is repositioned using file.seek().\n",
        "\n",
        "#file.readline()\n",
        "\n",
        "- Functionality: Reads a single line from the file, including the newline character (\\n).\n",
        "- Arguments:\n",
        " - size (optional): Specifies the maximum number of bytes to read. If omitted or negative, reads the entire line.\n",
        "- Returns: A string containing the line read from the file. If the end of the file is reached, it returns an empty string.\n",
        "- File Pointer: After reading a line, the file pointer is positioned at the beginning of the next line. Subsequent calls to readline() will read the next line.\n",
        "\n",
        "\n",
        "#Choosing the Right Method\n",
        "\n",
        "- If you need to process the entire file content as a single string, use file.read().\n",
        "- If you need to process the file line by line, use file.readline() or iterate over the file object using a for loop.\n",
        "\n",
        "#Example of iterating over file lines:"
      ],
      "metadata": {
        "id": "YzoFZ0_1yw5g"
      }
    },
    {
      "cell_type": "code",
      "source": [
        "with open('myfile.txt', 'r') as f:\n",
        "    for line in f:\n",
        "        print(line, end='')  # Prints each line of the file"
      ],
      "metadata": {
        "id": "OsoABIT70gVJ"
      },
      "execution_count": null,
      "outputs": []
    },
    {
      "cell_type": "markdown",
      "source": [
        "#21. What is the logging module in Python used for?\n",
        "- The logging module in Python is a powerful and flexible tool used for recording program events and information during execution. It provides a way to track what's happening in your application, helping you with debugging, monitoring, and auditing.\n",
        "\n",
        "#Here are the key purposes of the logging module:\n",
        "\n",
        "- Recording Program Events:\n",
        " - You can use the logging module to record various events that occur during the execution of your program, such as function calls, variable values, errors, and warnings.\n",
        " - This creates a detailed history of your program's activity, which can be invaluable for understanding its behavior and identifying potential issues.\n",
        "\n",
        "- Debugging:\n",
        " - When you encounter errors or unexpected behavior in your program, the logs generated by the logging module can be invaluable for debugging.\n",
        " - By examining the sequence of events and data recorded in the logs, you can trace the execution path and pinpoint the source of the problem.\n",
        "\n",
        "- Monitoring:\n",
        " - The logging module can be used to monitor the performance and behavior of your application in real-time or after the fact.\n",
        " - By analyzing log data, you can identify bottlenecks, track resource usage, and detect anomalies that might indicate potential problems.\n",
        "\n",
        "- Auditing:\n",
        " - Logs can be used for security audits and compliance purposes.\n",
        " - They provide a record of user actions, system changes, and other relevant events, which can be crucial for demonstrating compliance with regulations or investigating security incidents.\n",
        "\n",
        "#How it Works:\n",
        "\n",
        "The logging module provides a hierarchical system of loggers, handlers, and formatters that work together to create and manage log messages.\n",
        "\n",
        "- Loggers: Loggers are the main objects used to emit log messages. They have a name and a logging level, which determines the severity of messages that will be recorded.\n",
        "- Handlers: Handlers determine where log messages are sent, such as to a file, the console, or a network socket.\n",
        "- Formatters: Formatters control the format of log messages, including the timestamp, logger name, and message content.\n",
        "\n",
        "#Benefits of Using Logging:\n",
        "\n",
        "- Easier Debugging: Logs provide valuable insights into program execution, making it easier to identify and fix errors.\n",
        "- Improved Monitoring: Logs can be used to track application performance and identify potential issues.\n",
        "- Enhanced Auditing: Logs provide a record of events that can be used for security audits and compliance purposes.\n",
        "- Increased Collaboration: Logs can be shared among developers and system administrators to facilitate collaboration and problem-solving.\n",
        "\n",
        "#22.  What is the os module in Python used for in file handling?\n",
        "- The os module in Python provides a way to interact with the operating system. It offers a variety of functions for file and directory manipulation, among other things.\n",
        "\n",
        "#Here are some common uses of the os module in file handling:\n",
        "\n",
        "- File and Directory Manipulation:\n",
        " - os.getcwd(): Get the current working directory.\n",
        " - os.chdir(path): Change the current working directory to the specified path.\n",
        " - os.listdir(path): List all files and directories in the specified path.\n",
        " - os.mkdir(path): Create a new directory.\n",
        " - os.makedirs(path): Create a new directory and any necessary parent directories.\n",
        " - os.rmdir(path): Remove an empty directory.\n",
        " - os.removedirs(path): Remove a directory and any empty parent directories.\n",
        " - os.rename(src, dst): Rename a file or directory.\n",
        " - os.remove(path): Delete a file.\n",
        " - os.unlink(path): Delete a file (similar to os.remove()).\n",
        "\n",
        "- File Path Operations:\n",
        " - os.path.exists(path): Check if a file or directory exists.\n",
        " - os.path.isfile(path): Check if a path is a regular file.\n",
        " - os.path.isdir(path): Check if a path is a directory.\n",
        " - os.path.join(path1, path2, ...): Join one or more path components intelligently.\n",
        " - os.path.abspath(path): Get the absolute path of a file or directory.\n",
        " - os.path.basename(path): Get the base name of a file or directory.\n",
        " - os.path.dirname(path): Get the directory name of a file or directory.\n",
        " - os.path.splitext(path): Split a path into root, directory, and file name components.\n",
        "\n",
        "- File Permissions and Ownership:\n",
        " - os.chmod(path, mode): Change the permissions of a file or directory.\n",
        " - os.chown(path, uid, gid): Change the ownership of a file or directory.\n",
        " - os.stat(path): Get file metadata, including permissions and ownership.\n",
        "\n",
        "- Other File-Related Operations:\n",
        " - os.access(path, mode): Check if a file can be accessed with the specified mode (e.g., read, write, execute).\n",
        " - os.path.getsize(path): Get the size of a file in bytes.\n",
        " - os.path.getmtime(path): Get the last modification time of a file.\n",
        "\n",
        "#23. What are the challenges associated with memory management in Python?\n",
        "- While Python's automatic memory management through garbage collection simplifies development and helps prevent many memory-related issues, there are still some challenges to be aware of:\n",
        "\n",
        "#Memory Leaks:\n",
        "- Circular References: Even with garbage collection, memory leaks can occur due to circular references, where objects refer to each other in a cycle, preventing their reference counts from reaching zero. The cyclic garbage collector attempts to address this, but it's not always perfect.\n",
        "- Global Variables: Global variables can persist for the duration of a program's execution, potentially holding onto large objects that are no longer needed, leading to memory leaks.\n",
        "- Unintentional Object Retention: Complex data structures or unintended references can keep objects alive longer than necessary, preventing them from being garbage collected.\n",
        "\n",
        "#Performance Overhead:\n",
        "- Garbage Collection: The garbage collection process itself can introduce performance overhead, as it requires periodic pauses to scan memory and collect unused objects. This overhead can be noticeable in performance-critical applications.\n",
        "- Reference Counting: While generally efficient, reference counting adds a small overhead to object creation and deletion, as it requires maintaining and updating reference counts.\n",
        "\n",
        "#Debugging Memory Issues:\n",
        "- Identifying Leaks: Tracking down memory leaks can be challenging, especially in large or complex programs. It often requires careful analysis of object references and memory usage patterns.\n",
        "- Understanding Garbage Collection: Debugging issues related to garbage collection can be difficult, as it involves understanding the internal workings of the garbage collector and how it interacts with your code.\n",
        "\n",
        "#Limited Control:\n",
        "- Manual Memory Management: Python's automatic memory management provides limited control over when and how memory is allocated and deallocated. In some cases, developers might need finer-grained control for performance optimization or specific memory management requirements.\n",
        "- External Resources: While Python's garbage collector handles memory within the Python interpreter, it might not manage memory allocated by external libraries or resources, requiring manual cleanup.\n",
        "\n",
        "#Large Data Structures:\n",
        "- Memory Fragmentation: Large data structures can lead to memory fragmentation, where free memory is scattered in small chunks, making it difficult to allocate large contiguous blocks of memory.\n",
        "- Increased Garbage Collection Time: Large objects and complex data structures can increase the time required for garbage collection, potentially impacting performance.\n",
        "\n",
        "#Mitigation Strategies\n",
        "\n",
        "- Avoiding Circular References: Be mindful of circular references and use weak references when appropriate to break cycles.\n",
        "- Minimizing Global Variables: Use global variables sparingly and avoid storing large objects in them unnecessarily.\n",
        "- Explicitly Releasing Resources: For external resources or libraries that require manual cleanup, ensure you explicitly release them when they are no longer needed.\n",
        "Profiling Memory Usage: Use memory profiling tools to identify potential memory leaks and areas for optimization.\n",
        "- Using Data Structures Efficiently: Choose data structures that minimize memory usage and fragmentation.\n",
        "- Optimizing Garbage Collection Settings: Adjust garbage collection parameters to fine-tune its behavior for your specific application.\n",
        "\n",
        "#24. How do you raise an exception manually in Python?\n",
        "- You can manually raise an exception using the raise statement followed by the exception class or instance you want to raise.\n",
        "\n",
        "#Reasoning\n",
        "\n",
        "- raise keyword: The raise keyword is used to explicitly trigger an exception.\n",
        "- Exception type: You specify the type of exception you want to raise, such as ValueError, TypeError, or a custom exception class.\n",
        "- Exception message (optional): You can provide an optional message to describe the reason for the exception.\n",
        "\n",
        "#25. Why is it important to use multithreading in certain applications?\n",
        "- Multithreading is a technique where a single process can have multiple threads of execution running concurrently. This can significantly improve performance and responsiveness in specific scenarios.\n",
        "\n",
        "#Here are the key reasons why multithreading is important in certain applications:\n",
        "\n",
        "- Improved Responsiveness:\n",
        "\n",
        " - In applications with user interfaces or interactive elements, multithreading allows the program to remain responsive even when performing long-running tasks.\n",
        " - By offloading time-consuming operations to a separate thread, the main thread can continue to handle user input and update the interface, preventing the application from freezing or becoming unresponsive.\n",
        "\n",
        "- Enhanced Performance:\n",
        "\n",
        " - For tasks that can be broken down into smaller, independent subtasks, multithreading can significantly improve performance by utilizing multiple CPU cores simultaneously.\n",
        " - Each thread can execute a different part of the task concurrently, leading to faster overall execution, especially on multi-core processors.\n",
        "\n",
        "- Resource Sharing and Efficiency:\n",
        "\n",
        " - Threads within the same process share the same memory space and resources. This allows for efficient communication and data sharing between threads, reducing the overhead of creating and managing separate processes.\n",
        " - Multithreading can be particularly advantageous in applications that require frequent data exchange or synchronization between tasks.\n",
        "\n",
        "- Simplified Program Structure:\n",
        "\n",
        " - In some cases, using multithreading can simplify program structure and logic. For example, in server applications that handle multiple client requests concurrently, using a separate thread for each client can make the code easier to manage and understand.\n",
        "\n",
        "#Examples of Applications Where Multithreading is Important:\n",
        "\n",
        "- Web servers: Handling multiple client requests concurrently.\n",
        "- GUI applications: Maintaining responsiveness while performing background tasks.\n",
        "- Games: Running game logic, rendering graphics, and handling user input simultaneously.\n",
        "- Scientific computing: Performing parallel computations on large datasets.\n",
        "\n",
        "#Things to consider\n",
        "\n",
        "- While multithreading offers several benefits, it's important to consider potential challenges such as thread synchronization and race conditions, which can lead to data corruption or unexpected behavior if not handled carefully.\n",
        "- Python's Global Interpreter Lock (GIL) can limit the true parallelism of multithreading for CPU-bound tasks. In such cases, multiprocessing might be a more suitable approach.\n",
        "\n"
      ],
      "metadata": {
        "id": "tmVHnkzA0h9Q"
      }
    },
    {
      "cell_type": "markdown",
      "source": [
        "#PRACTICAL QUESTION\n"
      ],
      "metadata": {
        "id": "XlluJV9hTyOB"
      }
    },
    {
      "cell_type": "markdown",
      "source": [
        "#1. How can you open a file for writing in Python and write a string to it"
      ],
      "metadata": {
        "id": "eaO-jjGuT4Uw"
      }
    },
    {
      "cell_type": "code",
      "source": [
        "file = open(\"my_file.txt\", \"w\")\n",
        "file.write(\"This is the first line.\\n\")\n",
        "file.write(\"This is the second line.\\n\")\n",
        "file.close()"
      ],
      "metadata": {
        "id": "Y3OpalESUj-o"
      },
      "execution_count": null,
      "outputs": []
    },
    {
      "cell_type": "markdown",
      "source": [
        "This code will:\n",
        "\n",
        "- Create a file named my_file.txt (or overwrite it if it exists).\n",
        "- Write \"This is the first line.\" to the file, followed by a newline character.\n",
        "- Write \"This is the second line.\" to the file, followed by a newline character.\n",
        "- Close the file.\n",
        "\n",
        "To see the output, open the my_file.txt file, which should now contain the two lines of text."
      ],
      "metadata": {
        "id": "I4yyhhpfUnqa"
      }
    },
    {
      "cell_type": "markdown",
      "source": [
        "#2. Write a Python program to read the contents of a file and print each line"
      ],
      "metadata": {
        "id": "zS8rhnBPUt0Z"
      }
    },
    {
      "cell_type": "code",
      "source": [
        "def print_file_contents(file_path):\n",
        "  \"\"\"Reads the contents of a file and prints each line.\n",
        "\n",
        "  Args:\n",
        "    file_path: The path to the file to read.\n",
        "  \"\"\"\n",
        "  try:\n",
        "    with open(file_path, 'r') as file:\n",
        "      for line in file:\n",
        "        print(line, end='')  # Print each line without adding an extra newline\n",
        "  except FileNotFoundError:\n",
        "    print(f\"Error: File not found at '{file_path}'\")\n",
        "  except Exception as e:\n",
        "    print(f\"An error occurred: {e}\")\n",
        "\n",
        "# Example usage\n",
        "file_path = \"my_file.txt\"  # Replace with your file path\n",
        "print_file_contents(file_path)"
      ],
      "metadata": {
        "id": "sYT7kEF4U5cK"
      },
      "execution_count": null,
      "outputs": []
    },
    {
      "cell_type": "markdown",
      "source": [
        "#How it works\n",
        "\n",
        "- The program defines a function print_file_contents to encapsulate the file-reading logic.\n",
        "- It uses a try...except block to handle potential errors like FileNotFoundError.\n",
        "- The with open() statement opens the file in read mode ('r') and assigns it to the variable file. This ensures the file is automatically closed when the block ends, even if errors occur.\n",
        "- The code then iterates through each line in the file using a for loop.\n",
        "- For each line, it prints the line using print(line, end=''), which prevents adding an extra newline.\n",
        "- Finally, it provides an example of how to use the function by calling it with a specific file path."
      ],
      "metadata": {
        "id": "e6AWpYaJVAZX"
      }
    },
    {
      "cell_type": "markdown",
      "source": [
        "#3.  How would you handle a case where the file doesn't exist while trying to open it for reading"
      ],
      "metadata": {
        "id": "LwWLu5AcVNrz"
      }
    },
    {
      "cell_type": "code",
      "source": [
        "def read_file(file_path):\n",
        "  \"\"\"Reads the contents of a file and prints each line.\n",
        "\n",
        "  Args:\n",
        "    file_path: The path to the file to read.\n",
        "  \"\"\"\n",
        "  try:\n",
        "    with open(file_path, 'r') as file:\n",
        "      # Process the file contents here\n",
        "      for line in file:\n",
        "        print(line, end='')\n",
        "  except FileNotFoundError:\n",
        "    print(f\"Error: File not found at '{file_path}'\")\n",
        "\n",
        "# Example usage\n",
        "file_path = \"my_file.txt\"  # Replace with your file path\n",
        "read_file(file_path)"
      ],
      "metadata": {
        "id": "K-fQh4j5VRdt"
      },
      "execution_count": null,
      "outputs": []
    },
    {
      "cell_type": "markdown",
      "source": [
        "#How it works\n",
        "\n",
        "- The code attempts to open the file using with open(file_path, 'r') as file:.\n",
        "- If the file is found and opened successfully, the code within the with block is executed. In this case, it would print each line of the file.\n",
        "- If the file is not found, a FileNotFoundError exception is raised.\n",
        "- The except FileNotFoundError: block catches this exception, and the code within it is executed. Here, it prints an error message indicating that the file was not found."
      ],
      "metadata": {
        "id": "DcUlMaJqVfmX"
      }
    },
    {
      "cell_type": "markdown",
      "source": [
        "#4.  Write a Python script that reads from one file and writes its content to another file"
      ],
      "metadata": {
        "id": "-xWCioErVo76"
      }
    },
    {
      "cell_type": "code",
      "source": [
        "def copy_file_contents(source_file, destination_file):\n",
        "  \"\"\"Copies the contents of one file to another.\n",
        "\n",
        "  Args:\n",
        "    source_file: The path to the source file.\n",
        "    destination_file: The path to the destination file.\n",
        "  \"\"\"\n",
        "  try:\n",
        "    with open(source_file, 'r') as source, open(destination_file, 'w') as destination:\n",
        "      for line in source:\n",
        "        destination.write(line)\n",
        "    print(f\"File '{source_file}' copied to '{destination_file}' successfully.\")\n",
        "  except FileNotFoundError:\n",
        "    print(f\"Error: Source file not found at '{source_file}'\")\n",
        "  except Exception as e:\n",
        "    print(f\"An error occurred: {e}\")\n",
        "\n",
        "# Example usage\n",
        "source_file = \"input.txt\"  # Replace with your source file path\n",
        "destination_file = \"output.txt\"  # Replace with your destination file path\n",
        "copy_file_contents(source_file, destination_file)"
      ],
      "metadata": {
        "id": "Dxr3lETuVtkb"
      },
      "execution_count": null,
      "outputs": []
    },
    {
      "cell_type": "markdown",
      "source": [
        "#5. How would you catch and handle division by zero error in Python"
      ],
      "metadata": {
        "id": "RlhgfKe5WJ_K"
      }
    },
    {
      "cell_type": "code",
      "source": [
        "def divide_numbers(numerator, denominator):\n",
        "  \"\"\"Divides two numbers and handles division by zero errors.\n",
        "\n",
        "  Args:\n",
        "    numerator: The numerator.\n",
        "    denominator: The denominator.\n",
        "\n",
        "  Returns:\n",
        "    The result of the division, or None if division by zero occurs.\n",
        "  \"\"\"\n",
        "  try:\n",
        "    result = numerator / denominator\n",
        "    return result\n",
        "  except ZeroDivisionError:\n",
        "    print(\"Error: Division by zero!\")\n",
        "    return None  # Or any other appropriate value\n",
        "\n",
        "# Example usage\n",
        "numerator = 10\n",
        "denominator = 0\n",
        "result = divide_numbers(numerator, denominator)\n",
        "\n",
        "if result is not None:\n",
        "  print(f\"Result: {result}\")"
      ],
      "metadata": {
        "id": "IxT3hNR0WQGs"
      },
      "execution_count": null,
      "outputs": []
    },
    {
      "cell_type": "markdown",
      "source": [
        "#How it works\n",
        "\n",
        "- The program defines a function called copy_file_contents that takes the source and destination file paths as input.\n",
        "- It uses a try-except block to handle potential exceptions that may occur during file operations.\n",
        "- Inside the try block, it opens both the source and destination files using the with open() statement.\n",
        "- It then reads each line from the source file and writes it to the destination file using a loop.\n",
        "- Finally, it prints a success message.\n",
        "- If any exceptions occur, such as - FileNotFoundError or any other unexpected error, the program handles them in the except block by printing an error message."
      ],
      "metadata": {
        "id": "qfybD821WYDE"
      }
    },
    {
      "cell_type": "markdown",
      "source": [
        "#6.  Write a Python program that logs an error message to a log file when a division by zero exception occurs"
      ],
      "metadata": {
        "id": "8v-K9t8-Ww-F"
      }
    },
    {
      "cell_type": "code",
      "source": [
        "import logging\n",
        "\n",
        "def divide_numbers(numerator, denominator):\n",
        "  \"\"\"Divides two numbers and logs an error if division by zero occurs.\n",
        "\n",
        "  Args:\n",
        "    numerator: The numerator.\n",
        "    denominator: The denominator.\n",
        "\n",
        "  Returns:\n",
        "    The result of the division, or None if division by zero occurs.\n",
        "  \"\"\"\n",
        "  try:\n",
        "    result = numerator / denominator\n",
        "    return result\n",
        "  except ZeroDivisionError:\n",
        "    logging.error(\"Division by zero error occurred\")\n",
        "    return None\n",
        "\n",
        "# Set up logging to a file\n",
        "logging.basicConfig(filename='error.log', level=logging.ERROR,\n",
        "                    format='%(asctime)s - %(levelname)s - %(message)s')\n",
        "\n",
        "# Example usage\n",
        "numerator = 10\n",
        "denominator = 0\n",
        "result = divide_numbers(numerator, denominator)\n",
        "\n",
        "if result is not None:\n",
        "  print(f\"Result: {result}\")"
      ],
      "metadata": {
        "id": "xBnbtVloW1OK"
      },
      "execution_count": null,
      "outputs": []
    },
    {
      "cell_type": "markdown",
      "source": [
        "#How it works\n",
        "\n",
        "- The program imports the logging module to enable logging functionality.\n",
        "- It sets up the logging configuration using logging.basicConfig(), specifying the filename (error.log), logging level (logging.ERROR), and message format.\n",
        "- The divide_numbers function attempts to divide the numerator by the denominator.\n",
        "- If a ZeroDivisionError occurs, the except block is executed:\n",
        " - It logs the error message \"Division by zero error occurred\" using logging.error().\n",
        " - It returns None to indicate that an error occurred.\n",
        "- If the division is successful, the function returns the result.\n",
        "- In the example usage, the program calls divide_numbers with a numerator and denominator that will result in a division by zero error.\n",
        "- The error is caught, logged to the error.log file, and the function returns None.\n",
        "- The program checks if the result is not None. Since it is None (due to the error), it does not print any result."
      ],
      "metadata": {
        "id": "OlNmOvAtXDO4"
      }
    },
    {
      "cell_type": "markdown",
      "source": [
        "#7. How do you log information at different levels (INFO, ERROR, WARNING) in Python using the logging module"
      ],
      "metadata": {
        "id": "xozg1MzjXVEb"
      }
    },
    {
      "cell_type": "code",
      "source": [
        "import logging\n",
        "\n",
        "# Set up logging\n",
        "logging.basicConfig(filename='my_app.log', level=logging.DEBUG,\n",
        "                    format='%(asctime)s - %(levelname)s - %(message)s')\n",
        "\n",
        "# Log messages at different levels\n",
        "logging.debug('This is a debug message')\n",
        "logging.info('This is an info message')\n",
        "logging.warning('This is a warning message')\n",
        "logging.error('This is an error message')\n",
        "logging.critical('This is a critical message')"
      ],
      "metadata": {
        "id": "rtm4CoTpXZ0D"
      },
      "execution_count": null,
      "outputs": []
    },
    {
      "cell_type": "markdown",
      "source": [
        "#How it works\n",
        "\n",
        "- Import logging: Imports the logging module.\n",
        "- logging.basicConfig(...): Configures the logging system:\n",
        " - filename='my_app.log': Specifies the log file name.\n",
        " - level=logging.DEBUG: Sets the logging\n",
        " - level to DEBUG, meaning all messages will be logged.\n",
        " - format='...': Defines the format of the log messages.\n",
        "- Logging functions: Calls the appropriate logging function (debug, info, warning, error, critical) to log messages at different levels.\n",
        "\n",
        "#To view the log:\n",
        "\n",
        "- Open the my_app.log file in a text editor. It should contain all the log messages with their respective levels and timestamps.\n",
        "\n",
        "#Customizing log levels\n",
        "\n",
        "- You can change the logging level using logging.getLogger().setLevel(level). For example, to log only WARNING and above:"
      ],
      "metadata": {
        "id": "NqiTWt80Xsfu"
      }
    },
    {
      "cell_type": "code",
      "source": [
        "logging.getLogger().setLevel(logging.WARNING)"
      ],
      "metadata": {
        "colab": {
          "base_uri": "https://localhost:8080/",
          "height": 147
        },
        "id": "mdY0uvAMYBLp",
        "outputId": "7ff67242-7d84-4326-88a0-f8abcc80998b"
      },
      "execution_count": 5,
      "outputs": [
        {
          "output_type": "error",
          "ename": "NameError",
          "evalue": "name 'logging' is not defined",
          "traceback": [
            "\u001b[0;31m---------------------------------------------------------------------------\u001b[0m",
            "\u001b[0;31mNameError\u001b[0m                                 Traceback (most recent call last)",
            "\u001b[0;32m<ipython-input-5-3e0d46707c11>\u001b[0m in \u001b[0;36m<cell line: 0>\u001b[0;34m()\u001b[0m\n\u001b[0;32m----> 1\u001b[0;31m \u001b[0mlogging\u001b[0m\u001b[0;34m.\u001b[0m\u001b[0mgetLogger\u001b[0m\u001b[0;34m(\u001b[0m\u001b[0;34m)\u001b[0m\u001b[0;34m.\u001b[0m\u001b[0msetLevel\u001b[0m\u001b[0;34m(\u001b[0m\u001b[0mlogging\u001b[0m\u001b[0;34m.\u001b[0m\u001b[0mWARNING\u001b[0m\u001b[0;34m)\u001b[0m\u001b[0;34m\u001b[0m\u001b[0;34m\u001b[0m\u001b[0m\n\u001b[0m",
            "\u001b[0;31mNameError\u001b[0m: name 'logging' is not defined"
          ]
        }
      ]
    },
    {
      "cell_type": "markdown",
      "source": [
        "#8. Write a program to handle a file opening error using exception handling"
      ],
      "metadata": {
        "id": "nR8AOQZOYEoP"
      }
    },
    {
      "cell_type": "code",
      "source": [
        "def process_file(file_path):\n",
        "    \"\"\"Processes a file and handles file opening errors.\n",
        "\n",
        "    Args:\n",
        "        file_path: The path to the file to process.\n",
        "    \"\"\"\n",
        "    try:\n",
        "        with open(file_path, 'r') as file:\n",
        "            # Process the file contents here (e.g., read and print lines)\n",
        "            for line in file:\n",
        "                print(line, end='')\n",
        "    except FileNotFoundError:\n",
        "        print(f\"Error: File not found at '{file_path}'\")\n",
        "    except IOError:\n",
        "        print(f\"Error: Could not open or read file at '{file_path}'\")\n",
        "    except Exception as e:\n",
        "        print(f\"An unexpected error occurred: {e}\")\n",
        "\n",
        "# Example usage\n",
        "file_path = \"my_file.txt\"  # Replace with your file path\n",
        "process_file(file_path)"
      ],
      "metadata": {
        "id": "Vp8PIbMIYKPJ"
      },
      "execution_count": null,
      "outputs": []
    },
    {
      "cell_type": "markdown",
      "source": [
        "#How it works\n",
        "\n",
        "- The program defines a function called process_file that takes the file path as an argument.\n",
        "- Inside the function, it uses a try-except block to handle potential exceptions that might occur when opening or reading the file.\n",
        "- In the try block, it attempts to open the file in read mode ('r') using the with open() statement. If successful, it proceeds to process the file contents (in this case, it simply reads and prints each line).\n",
        "- If a FileNotFoundError occurs, the corresponding except block is executed, printing an error message indicating that the file was not found.\n",
        "- If an IOError occurs (which is a more general input/output error), the corresponding except block is executed, printing an error message indicating that the file could not be opened or read.\n",
        "- If any other unexpected error occurs, the except Exception block is executed, printing a generic error message along with the exception details.\n",
        "- Finally, in the example usage, the program calls the process_file function with a file path. If the file exists and can be opened, the contents will be printed. Otherwise, an appropriate error message will be displayed.\n",
        "\n",
        "#Example scenarios\n",
        "\n",
        "- File not found: If the file specified by file_path does not exist, a FileNotFoundError will be raised and caught, resulting in the \"File not found\" error message being printed.\n",
        "- Permission denied: If the user does not have permission to read the file, an IOError (or a more specific subclass like PermissionError) might be raised and caught, resulting in the \"Could not open or read file\" error message being printed.\n",
        "- Other errors: Any other unexpected errors during file opening or processing will be caught by the except Exception block, and a generic error message will be printed along with the exception details."
      ],
      "metadata": {
        "id": "quEP_IyYYVUE"
      }
    },
    {
      "cell_type": "markdown",
      "source": [
        "#9. How can you read a file line by line and store its content in a list in Python"
      ],
      "metadata": {
        "id": "gN15vIcvYn1j"
      }
    },
    {
      "cell_type": "code",
      "source": [
        "def read_file_into_list(file_path):\n",
        "    \"\"\"Reads a file line by line and stores its content in a list.\n",
        "\n",
        "    Args:\n",
        "        file_path: The path to the file to read.\n",
        "\n",
        "    Returns:\n",
        "        A list of strings, where each string represents a line from the file.\n",
        "        Returns an empty list if the file is not found or if an error occurs.\n",
        "    \"\"\"\n",
        "    try:\n",
        "        with open(file_path, 'r') as file:\n",
        "            lines = file.readlines()\n",
        "            return lines\n",
        "    except FileNotFoundError:\n",
        "        print(f\"Error: File not found at '{file_path}'\")\n",
        "        return []\n",
        "    except Exception as e:\n",
        "        print(f\"An error occurred: {e}\")\n",
        "        return []\n",
        "\n",
        "# Example usage\n",
        "file_path = \"my_file.txt\"  # Replace with your file path\n",
        "file_content = read_file_into_list(file_path)\n",
        "\n",
        "if file_content:\n",
        "    print(\"File content:\")\n",
        "    for line in file_content:\n",
        "        print(line, end='')  # Print each line without adding an extra newline"
      ],
      "metadata": {
        "id": "nTWWJCa-Y3zT"
      },
      "execution_count": null,
      "outputs": []
    },
    {
      "cell_type": "markdown",
      "source": [
        "#10. How can you append data to an existing file in Python"
      ],
      "metadata": {
        "id": "FOTZ8EM4Y9wq"
      }
    },
    {
      "cell_type": "code",
      "source": [
        "def append_to_file(file_path, data):\n",
        "    \"\"\"Appends data to an existing file.\n",
        "\n",
        "    Args:\n",
        "        file_path: The path to the file to append to.\n",
        "        data: The data to append (string).\n",
        "    \"\"\"\n",
        "    try:\n",
        "        with open(file_path, 'a') as file:\n",
        "            file.write(data)\n",
        "        print(f\"Data appended to '{file_path}' successfully.\")\n",
        "    except FileNotFoundError:\n",
        "        print(f\"Error: File not found at '{file_path}'\")\n",
        "    except Exception as e:\n",
        "        print(f\"An error occurred: {e}\")\n",
        "\n",
        "# Example usage\n",
        "file_path = \"my_file.txt\"  # Replace with your file path\n",
        "data_to_append = \"This is some new data to append.\\n\"\n",
        "append_to_file(file_path, data_to_append)"
      ],
      "metadata": {
        "id": "6kL7RZYmZMo0"
      },
      "execution_count": null,
      "outputs": []
    },
    {
      "cell_type": "markdown",
      "source": [
        "#How it works\n",
        "\n",
        "- The program defines a function called append_to_file that takes the file path and data to append as arguments.\n",
        "- It uses a try-except block to handle potential exceptions that might occur when opening or writing to the file.\n",
        "- In the try block, it opens the file in append mode ('a') using the with open() statement. This ensures that the file is automatically closed even if errors occur.\n",
        "- It then uses the write() method of the file object to append the data to the file.\n",
        "- If the operation is successful, it prints a success message.\n",
        "- If a FileNotFoundError occurs, the corresponding except block is executed, printing an error message indicating that the file was not found.\n",
        "- If any other exception occurs, the except Exception block is executed, printing a generic error message along with the exception details.\n",
        "- In the example usage, the program calls the append_to_file function with a file path and data to append. If the file exists, the data will be appended to it. Otherwise, an appropriate error message will be displayed.\n"
      ],
      "metadata": {
        "id": "kFrm9pCrZVBr"
      }
    },
    {
      "cell_type": "markdown",
      "source": [
        "#11. Write a Python program that uses a try-except block to handle an error when attempting to access a dictionary key that doesn't exist"
      ],
      "metadata": {
        "id": "Ft_XbD7rZdbD"
      }
    },
    {
      "cell_type": "code",
      "source": [
        "def access_dictionary_key(dictionary, key):\n",
        "    \"\"\"Accesses a dictionary key and handles KeyError if the key doesn't exist.\n",
        "\n",
        "    Args:\n",
        "        dictionary: The dictionary to access.\n",
        "        key: The key to access.\n",
        "\n",
        "    Returns:\n",
        "        The value associated with the key, or None if the key doesn't exist.\n",
        "    \"\"\"\n",
        "    try:\n",
        "        value = dictionary[key]\n",
        "        return value\n",
        "    except KeyError:\n",
        "        print(f\"Error: Key '{key}' not found in the dictionary.\")\n",
        "        return None\n",
        "\n",
        "# Example usage\n",
        "my_dict = {'a': 1, 'b': 2, 'c': 3}\n",
        "key_to_access = 'd'  # This key doesn't exist in the dictionary\n",
        "\n",
        "value = access_dictionary_key(my_dict, key_to_access)\n",
        "\n",
        "if value is not None:\n",
        "    print(f\"Value for key '{key_to_access}': {value}\")"
      ],
      "metadata": {
        "id": "Yxy_qPiVZrs8"
      },
      "execution_count": null,
      "outputs": []
    },
    {
      "cell_type": "markdown",
      "source": [
        "#12.  Write a program that demonstrates using multiple except blocks to handle different types of exceptions"
      ],
      "metadata": {
        "id": "vyRY1x2nZuCV"
      }
    },
    {
      "cell_type": "code",
      "source": [
        "def handle_exceptions(value1, value2):\n",
        "    \"\"\"Demonstrates handling multiple exception types.\n",
        "\n",
        "    Args:\n",
        "        value1: The first value.\n",
        "        value2: The second value.\n",
        "    \"\"\"\n",
        "    try:\n",
        "        result = value1 / value2\n",
        "        print(f\"Result of division: {result}\")\n",
        "    except ZeroDivisionError:\n",
        "        print(\"Error: Division by zero!\")\n",
        "    except TypeError:\n",
        "        print(\"Error: Invalid data types for division.\")\n",
        "    except Exception as e:\n",
        "        print(f\"An unexpected error occurred: {e}\")\n",
        "\n",
        "# Example usage with different scenarios\n",
        "handle_exceptions(10, 0)  # ZeroDivisionError\n",
        "handle_exceptions(10, 'a')  # TypeError\n",
        "handle_exceptions(10, 2)  # No error"
      ],
      "metadata": {
        "id": "dWwcPgrnZhzQ"
      },
      "execution_count": null,
      "outputs": []
    },
    {
      "cell_type": "markdown",
      "source": [
        "#13. How would you check if a file exists before attempting to read it in Python"
      ],
      "metadata": {
        "id": "SldnKaN5Z5tu"
      }
    },
    {
      "cell_type": "markdown",
      "source": [
        "Method 1: Using os.path.exists()"
      ],
      "metadata": {
        "id": "ow7WQW0iaIkY"
      }
    },
    {
      "cell_type": "code",
      "source": [
        "import os\n",
        "\n",
        "file_path = \"my_file.txt\"  # Replace with your file path\n",
        "\n",
        "if os.path.exists(file_path):\n",
        "    with open(file_path, \"r\") as file:\n",
        "        # Process the file\n",
        "        # ...\n",
        "else:\n",
        "    print(f\"File '{file_path}' does not exist.\")"
      ],
      "metadata": {
        "colab": {
          "base_uri": "https://localhost:8080/",
          "height": 110
        },
        "id": "fm9qnjHwZ-WT",
        "outputId": "3649cb43-5469-4dc9-d8dc-7f2e9c90dd69"
      },
      "execution_count": 6,
      "outputs": [
        {
          "output_type": "error",
          "ename": "IndentationError",
          "evalue": "expected an indented block after 'with' statement on line 6 (<ipython-input-6-e5c0320c0f7d>, line 9)",
          "traceback": [
            "\u001b[0;36m  File \u001b[0;32m\"<ipython-input-6-e5c0320c0f7d>\"\u001b[0;36m, line \u001b[0;32m9\u001b[0m\n\u001b[0;31m    else:\u001b[0m\n\u001b[0m         ^\u001b[0m\n\u001b[0;31mIndentationError\u001b[0m\u001b[0;31m:\u001b[0m expected an indented block after 'with' statement on line 6\n"
          ]
        }
      ]
    },
    {
      "cell_type": "markdown",
      "source": [
        "Method 2: Using pathlib.Path.is_file()"
      ],
      "metadata": {
        "id": "mW50dqcLaRHG"
      }
    },
    {
      "cell_type": "code",
      "source": [
        "from pathlib import Path\n",
        "\n",
        "file_path = Path(\"my_file.txt\")\n",
        "\n",
        "if file_path.is_file():\n",
        "    with open(file_path, \"r\") as file:\n",
        "        # Process the file\n",
        "        # ...\n",
        "else:\n",
        "print(f\"File '{file_path}' does not exist.\")"
      ],
      "metadata": {
        "colab": {
          "base_uri": "https://localhost:8080/",
          "height": 110
        },
        "id": "qLpzjj-OaR40",
        "outputId": "da758815-0915-40c2-a8c2-8983b5d965f7"
      },
      "execution_count": 7,
      "outputs": [
        {
          "output_type": "error",
          "ename": "IndentationError",
          "evalue": "expected an indented block after 'with' statement on line 6 (<ipython-input-7-383984198892>, line 9)",
          "traceback": [
            "\u001b[0;36m  File \u001b[0;32m\"<ipython-input-7-383984198892>\"\u001b[0;36m, line \u001b[0;32m9\u001b[0m\n\u001b[0;31m    else:\u001b[0m\n\u001b[0m         ^\u001b[0m\n\u001b[0;31mIndentationError\u001b[0m\u001b[0;31m:\u001b[0m expected an indented block after 'with' statement on line 6\n"
          ]
        }
      ]
    },
    {
      "cell_type": "markdown",
      "source": [
        "#14. Write a program that uses the logging module to log both informational and error messages"
      ],
      "metadata": {
        "id": "7Xp3I49zavoh"
      }
    },
    {
      "cell_type": "code",
      "source": [],
      "metadata": {
        "id": "qLdlBd6da2U1"
      },
      "execution_count": null,
      "outputs": []
    },
    {
      "source": [
        "import logging\n",
        "\n",
        "# Configure the logging settings\n",
        "logging.basicConfig(\n",
        "    filename=\"my_log.log\",  # Log file name\n",
        "    level=logging.INFO,  # Set logging level to INFO (includes INFO, WARNING, ERROR, CRITICAL)\n",
        "    format=\"%(asctime)s - %(levelname)s - %(message)s\",  # Log message format\n",
        ")\n",
        "\n",
        "# Create a logger object\n",
        "logger = logging.getLogger(__name__)\n",
        "\n",
        "# Log an informational message\n",
        "logger.info(\"Program started successfully.\")\n",
        "\n",
        "try:\n",
        "    # Code that might raise an exception\n",
        "    result = 10 / 0  # This will raise a ZeroDivisionError\n",
        "except ZeroDivisionError as e:\n",
        "    # Log the error message\n",
        "    logger.error(f\"An error occurred: {e}\")\n",
        "\n",
        "# Log another informational message\n",
        "logger.info(\"Program completed.\")"
      ],
      "cell_type": "code",
      "metadata": {
        "id": "E1mcrPlVbBik"
      },
      "execution_count": null,
      "outputs": []
    },
    {
      "cell_type": "markdown",
      "source": [
        "#15. Write a Python program that prints the content of a file and handles the case when the file is empty"
      ],
      "metadata": {
        "id": "9Cw2TGVsbDRj"
      }
    },
    {
      "cell_type": "code",
      "source": [],
      "metadata": {
        "id": "q8UkeLXtbL6z"
      },
      "execution_count": null,
      "outputs": []
    },
    {
      "source": [
        "import os\n",
        "\n",
        "def print_file_content(file_path):\n",
        "    \"\"\"Prints the content of a file and handles the case when the file is empty.\n",
        "\n",
        "    Args:\n",
        "        file_path: The path to the file.\n",
        "    \"\"\"\n",
        "\n",
        "    if os.path.exists(file_path):\n",
        "        with open(file_path, \"r\") as file:\n",
        "            content = file.read()\n",
        "            if content:\n",
        "                print(content)\n",
        "            else:\n",
        "                print(f\"File '{file_path}' is empty.\")\n",
        "    else:\n",
        "        print(f\"File '{file_path}' does not exist.\")\n",
        "\n",
        "# Example usage\n",
        "file_path = \"my_file.txt\"  # Replace with your file path\n",
        "print_file_content(file_path)"
      ],
      "cell_type": "code",
      "metadata": {
        "id": "1O6Z76vYbPNa"
      },
      "execution_count": null,
      "outputs": []
    },
    {
      "cell_type": "markdown",
      "source": [
        "#16.Demonstrate how to use memory profiling to check the memory usage of a small program"
      ],
      "metadata": {
        "id": "7YRARIogbQps"
      }
    },
    {
      "cell_type": "markdown",
      "source": [
        "1. Install the memory_profiler package:"
      ],
      "metadata": {
        "id": "O24fVTHtbhsn"
      }
    },
    {
      "source": [
        "!pip install memory_profiler==0.61.0"
      ],
      "cell_type": "code",
      "metadata": {
        "id": "WhNJ3-Ivbi43"
      },
      "execution_count": null,
      "outputs": []
    },
    {
      "cell_type": "markdown",
      "source": [
        "2. Define your program:"
      ],
      "metadata": {
        "id": "JCZHnwQobjyV"
      }
    },
    {
      "source": [
        "import numpy as np\n",
        "\n",
        "def my_function():\n",
        "    \"\"\"A function that creates a large NumPy array.\"\"\"\n",
        "    arr = np.arange(1000000)\n",
        "    return arr.sum()"
      ],
      "cell_type": "code",
      "metadata": {
        "id": "TXsWyB8JbmyG"
      },
      "execution_count": null,
      "outputs": []
    },
    {
      "cell_type": "markdown",
      "source": [
        "3. Use the @profile decorator:"
      ],
      "metadata": {
        "id": "N2qNEJCUbsRi"
      }
    },
    {
      "source": [
        "from memory_profiler import profile\n",
        "\n",
        "@profile\n",
        "def my_function():\n",
        "    \"\"\"A function that creates a large NumPy array.\"\"\"\n",
        "    arr = np.arange(1000000)\n",
        "    return arr.sum()"
      ],
      "cell_type": "code",
      "metadata": {
        "id": "zYufD97IbtAx"
      },
      "execution_count": null,
      "outputs": []
    },
    {
      "cell_type": "markdown",
      "source": [
        "4. Run the program with %mprun:"
      ],
      "metadata": {
        "id": "gI3__wxQbvYb"
      }
    },
    {
      "source": [
        "%mprun -f my_function my_function()"
      ],
      "cell_type": "code",
      "metadata": {
        "id": "V9bgKao0bwPY"
      },
      "execution_count": null,
      "outputs": []
    },
    {
      "cell_type": "markdown",
      "source": [
        "#Reasoning\n",
        "\n",
        "-  %mprun: This is a magic command in IPython (and Colab) used to run the memory profiler.\n",
        "- -f my_function: Specifies the function you want to profile.\n",
        "- my_function(): Calls the function to execute it.\n",
        "\n",
        "#Output\n",
        "\n",
        " After running the cell, you will see a detailed line-by-line memory usage report in the output. The report shows memory usage at each line of your function, helping you identify potential memory bottlenecks."
      ],
      "metadata": {
        "id": "oGKsWdo0b25T"
      }
    },
    {
      "cell_type": "markdown",
      "source": [
        "#17.Write a Python program to create and write a list of numbers to a file, one number per line"
      ],
      "metadata": {
        "id": "FnWuFY2WcQNR"
      }
    },
    {
      "source": [
        "def write_numbers_to_file(numbers, filename):\n",
        "    \"\"\"Writes a list of numbers to a file, one number per line.\n",
        "\n",
        "    Args:\n",
        "        numbers: A list of numbers to write to the file.\n",
        "        filename: The name of the file to write to.\n",
        "    \"\"\"\n",
        "    try:\n",
        "        with open(filename, 'w') as f:  # Open the file in write mode ('w')\n",
        "            for number in numbers:\n",
        "                f.write(str(number) + '\\n')  # Write each number followed by a newline\n",
        "        print(f\"Numbers written to file: {filename}\")  # Indicate successful file writing\n",
        "    except Exception as e:  # Handle potential errors during file operations\n",
        "        print(f\"An error occurred: {e}\")  # Print error messages for troubleshooting\n",
        "\n",
        "# Example usage\n",
        "numbers = [1, 2, 3, 4, 5]\n",
        "filename = 'numbers.txt'\n",
        "write_numbers_to_file(numbers, filename)  # Call the function to write numbers to the file"
      ],
      "cell_type": "code",
      "metadata": {
        "id": "sBvgXUetcuU-"
      },
      "execution_count": null,
      "outputs": []
    },
    {
      "cell_type": "markdown",
      "source": [
        "#18. How would you implement a basic logging setup that logs to a file with rotation after 1MB"
      ],
      "metadata": {
        "id": "UQBuI_OLcvvk"
      }
    },
    {
      "cell_type": "code",
      "source": [],
      "metadata": {
        "id": "XSq5CjZ_c593"
      },
      "execution_count": null,
      "outputs": []
    },
    {
      "source": [
        "import logging\n",
        "import logging.handlers\n",
        "\n",
        "# Create a logger\n",
        "logger = logging.getLogger('my_logger')\n",
        "logger.setLevel(logging.DEBUG)  # Set the logging level\n",
        "\n",
        "# Create a RotatingFileHandler\n",
        "handler = logging.handlers.RotatingFileHandler(\n",
        "    filename='my_log.log',  # Log file name\n",
        "    maxBytes=1024 * 1024,  # 1MB size limit\n",
        "    backupCount=5  # Keep 5 backup files\n",
        ")\n",
        "handler.setLevel(logging.DEBUG)  # Set the logging level for the handler\n",
        "\n",
        "# Create a formatter\n",
        "formatter = logging.Formatter('%(asctime)s - %(name)s - %(levelname)s - %(message)s')\n",
        "handler.setFormatter(formatter)  # Set the formatter for the handler\n",
        "\n",
        "# Add the handler to the logger\n",
        "logger.addHandler(handler)\n",
        "\n",
        "# Example usage\n",
        "logger.debug('This is a debug message')\n",
        "logger.info('This is an info message')\n",
        "logger.warning('This is a warning message')\n",
        "logger.error('This is an error message')\n",
        "logger.critical('This is a critical message')"
      ],
      "cell_type": "code",
      "metadata": {
        "id": "XUQPgKEQc_Tq"
      },
      "execution_count": null,
      "outputs": []
    },
    {
      "cell_type": "markdown",
      "source": [
        "#19. Write a program that handles both IndexError and KeyError using a try-except blockF"
      ],
      "metadata": {
        "id": "Gdaq9tkmdExI"
      }
    },
    {
      "source": [
        "def handle_errors():\n",
        "    \"\"\"Demonstrates handling IndexError and KeyError using a try-except block.\"\"\"\n",
        "    my_list = [1, 2, 3]\n",
        "    my_dict = {'a': 1, 'b': 2}\n",
        "\n",
        "    try:\n",
        "        # Potential IndexError\n",
        "        print(my_list[3])  # Trying to access an index that doesn't exist\n",
        "\n",
        "        # Potential KeyError\n",
        "        print(my_dict['c'])  # Trying to access a key that doesn't exist\n",
        "\n",
        "    except IndexError as ie:  # Handle IndexError\n",
        "        print(f\"IndexError: {ie}\")\n",
        "\n",
        "    except KeyError as ke:  # Handle KeyError\n",
        "        print(f\"KeyError: {ke}\")\n",
        "\n",
        "    except Exception as e:  # Handle other exceptions (optional)\n",
        "        print(f\"An unexpected error occurred: {e}\")\n",
        "\n",
        "    finally:  # Optional cleanup (always executed)\n",
        "        print(\"Execution completed.\")\n",
        "\n",
        "# Call the function to demonstrate error handling\n",
        "handle_errors()"
      ],
      "cell_type": "code",
      "metadata": {
        "id": "1f6VA_LMdQ-3"
      },
      "execution_count": null,
      "outputs": []
    },
    {
      "cell_type": "markdown",
      "source": [
        "#20. How would you open a file and read its contents using a context manager in Python"
      ],
      "metadata": {
        "id": "Oq9pmrvedSfH"
      }
    },
    {
      "source": [
        "def read_file_with_context_manager(filename):\n",
        "    \"\"\"Opens a file using a context manager and reads its contents.\n",
        "\n",
        "    Args:\n",
        "        filename: The name of the file to read.\n",
        "    \"\"\"\n",
        "    try:\n",
        "        with open(filename, 'r') as file:  # Open the file in read mode ('r')\n",
        "            contents = file.read()  # Read the entire contents of the file\n",
        "            print(contents)  # Process the contents (e.g., print them)\n",
        "    except FileNotFoundError:\n",
        "        print(f\"Error: File '{filename}' not found.\")\n",
        "    except Exception as e:\n",
        "        print(f\"An error occurred: {e}\")\n",
        "\n",
        "# Example usage\n",
        "filename = 'my_file.txt'  # Replace with the actual file name\n",
        "read_file_with_context_manager(filename)"
      ],
      "cell_type": "code",
      "metadata": {
        "id": "VXeiof2vddFA"
      },
      "execution_count": null,
      "outputs": []
    },
    {
      "cell_type": "markdown",
      "source": [
        "#21. Write a Python program that reads a file and prints the number of occurrences of a specific word"
      ],
      "metadata": {
        "id": "hIev7Ejvdfo0"
      }
    },
    {
      "source": [
        "import re\n",
        "\n",
        "def count_word_occurrences(filename, word):\n",
        "    \"\"\"Reads a file and counts the occurrences of a specific word.\n",
        "\n",
        "    Args:\n",
        "        filename: The name of the file to read.\n",
        "        word: The word to count occurrences of.\n",
        "\n",
        "    Returns:\n",
        "        The number of occurrences of the word in the file.\n",
        "    \"\"\"\n",
        "    count = 0\n",
        "    try:\n",
        "        with open(filename, 'r') as file:\n",
        "            for line in file:\n",
        "                # Using regular expressions to find whole words only\n",
        "                matches = re.findall(r'\\b' + word + r'\\b', line, re.IGNORECASE)\n",
        "                count += len(matches)\n",
        "    except FileNotFoundError:\n",
        "        print(f\"Error: File '{filename}' not found.\")\n",
        "    except Exception as e:\n",
        "        print(f\"An error occurred: {e}\")\n",
        "    return count\n",
        "\n",
        "# Example usage\n",
        "filename = 'my_file.txt'  # Replace with your file name\n",
        "word_to_count = 'example'  # Replace with the word you want to count\n",
        "\n",
        "occurrences = count_word_occurrences(filename, word_to_count)\n",
        "print(f\"The word '{word_to_count}' appears {occurrences} times in the file.\")"
      ],
      "cell_type": "code",
      "metadata": {
        "id": "o9OaV8CndsBl"
      },
      "execution_count": null,
      "outputs": []
    },
    {
      "cell_type": "markdown",
      "source": [
        "#22. How can you check if a file is empty before attempting to read its contents"
      ],
      "metadata": {
        "id": "7LgjB2vvdwfu"
      }
    },
    {
      "cell_type": "markdown",
      "source": [
        "Method 1: Using os.stat().st_size"
      ],
      "metadata": {
        "id": "VB4k-8Vnd9qJ"
      }
    },
    {
      "source": [
        "import os\n",
        "\n",
        "def is_file_empty(filename):\n",
        "    \"\"\"Checks if a file is empty using os.stat().st_size.\n",
        "\n",
        "    Args:\n",
        "        filename: The name of the file to check.\n",
        "\n",
        "    Returns:\n",
        "        True if the file is empty, False otherwise.\n",
        "    \"\"\"\n",
        "    try:\n",
        "        return os.stat(filename).st_size == 0\n",
        "    except FileNotFoundError:\n",
        "        print(f\"Error: File '{filename}' not found.\")\n",
        "        return True  # Consider a non-existent file as empty\n",
        "    except Exception as e:\n",
        "        print(f\"An error occurred: {e}\")\n",
        "        return False  # Handle errors cautiously, assume not empty\n",
        "\n",
        "# Example usage\n",
        "filename = 'my_file.txt'\n",
        "if is_file_empty(filename):\n",
        "    print(f\"File '{filename}' is empty.\")\n",
        "else:\n",
        "    # Proceed with reading the file contents\n",
        "    with open(filename, 'r') as file:\n",
        "        contents = file.read()\n",
        "        # ... process the contents ..."
      ],
      "cell_type": "code",
      "metadata": {
        "id": "REmNpkhsd-ot"
      },
      "execution_count": null,
      "outputs": []
    },
    {
      "cell_type": "markdown",
      "source": [
        "Method 2: Using file.seek and file.read"
      ],
      "metadata": {
        "id": "L-VQ3Wh7eBvl"
      }
    },
    {
      "source": [
        "def is_file_empty(filename):\n",
        "    \"\"\"Checks if a file is empty using file.seek and file.read.\n",
        "\n",
        "    Args:\n",
        "        filename: The name of the file to check.\n",
        "\n",
        "    Returns:\n",
        "        True if the file is empty, False otherwise.\n",
        "    \"\"\"\n",
        "    try:\n",
        "        with open(filename, 'r') as file:\n",
        "            file.seek(0)  # Move the file pointer to the beginning\n",
        "            first_char = file.read(1)  # Read one character\n",
        "            return not first_char  # Empty if no character was read\n",
        "    except FileNotFoundError:\n",
        "        print(f\"Error: File '{filename}' not found.\")\n",
        "        return True  # Consider a non-existent file as empty\n",
        "    except Exception as e:\n",
        "        print(f\"An error occurred: {e}\")\n",
        "        return False  # Handle errors cautiously, assume not empty\n",
        "\n",
        "# Example usage (same as in Method 1)"
      ],
      "cell_type": "code",
      "metadata": {
        "id": "1QxBi_GReDDI"
      },
      "execution_count": null,
      "outputs": []
    },
    {
      "cell_type": "markdown",
      "source": [
        "#23.  Write a Python program that writes to a log file when an error occurs during file handling"
      ],
      "metadata": {
        "id": "3sa2FaM_eEuI"
      }
    },
    {
      "source": [
        "import logging\n",
        "\n",
        "def log_file_errors(filename, log_filename='file_errors.log'):\n",
        "    \"\"\"Logs errors that occur during file handling to a log file.\n",
        "\n",
        "    Args:\n",
        "        filename: The name of the file to handle.\n",
        "        log_filename: The name of the log file (default: 'file_errors.log').\n",
        "    \"\"\"\n",
        "    logging.basicConfig(filename=log_filename, level=logging.ERROR,\n",
        "                        format='%(asctime)s - %(levelname)s - %(message)s')\n",
        "\n",
        "    try:\n",
        "        # File handling operations that might raise errors\n",
        "        with open(filename, 'r') as file:\n",
        "            contents = file.read()\n",
        "            # ... process the contents ...\n",
        "    except FileNotFoundError:\n",
        "        logging.error(f\"File not found: {filename}\")\n",
        "    except PermissionError:\n",
        "        logging.error(f\"Permission denied when accessing: {filename}\")\n",
        "    except Exception as e:\n",
        "        logging.exception(f\"An unexpected error occurred while handling {filename}: {e}\")\n",
        "\n",
        "# Example usage\n",
        "filename = 'my_file.txt'\n",
        "log_file_errors(filename)"
      ],
      "cell_type": "code",
      "metadata": {
        "id": "OyuvuAYxeUb4"
      },
      "execution_count": null,
      "outputs": []
    }
  ]
}